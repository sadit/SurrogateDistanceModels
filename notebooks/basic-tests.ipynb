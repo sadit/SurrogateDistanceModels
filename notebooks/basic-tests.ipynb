{
 "cells": [
  {
   "cell_type": "code",
   "execution_count": 1,
   "id": "db03c9be-46c0-4e5d-96e6-b56eb958affe",
   "metadata": {},
   "outputs": [
    {
     "name": "stderr",
     "output_type": "stream",
     "text": [
      "\u001b[32m\u001b[1m  Activating\u001b[22m\u001b[39m project at `~/Research/SurrogateDistanceModels/notebooks`\n"
     ]
    },
    {
     "data": {
      "text/plain": [
       "test_searchgraph (generic function with 2 methods)"
      ]
     },
     "execution_count": 1,
     "metadata": {},
     "output_type": "execute_result"
    }
   ],
   "source": [
    "using Pkg\n",
    "Pkg.activate(\".\")\n",
    "\n",
    "using Plots, HypertextLiteral, Random\n",
    "include(\"../src/load.jl\") # load datasets\n",
    "include(\"../src/surrogate.jl\")\n",
    "include(\"../src/run.jl\") # run tests"
   ]
  },
  {
   "cell_type": "code",
   "execution_count": 2,
   "id": "cc2d38ec-9694-415e-b818-564a35b433d5",
   "metadata": {},
   "outputs": [
    {
     "data": {
      "text/plain": [
       "encode (generic function with 9 methods)"
      ]
     },
     "execution_count": 2,
     "metadata": {},
     "output_type": "execute_result"
    }
   ],
   "source": [
    "struct MaxHashSurrogate <: AbstractSurrogate\n",
    "    kscale::Int\n",
    "    pool::Matrix{Int32}\n",
    "    \n",
    "    function MaxHashSurrogate(samplesize::Integer, npools::Integer, dim::Integer, kscale::Integer)\n",
    "        samplesize < 256 || throw(ArgumentError(\"samplesize < 256: $samplesize\"))\n",
    "        pool = Matrix{Int32}(undef, samplesize, npools)\n",
    "        perm = Vector{Int32}(1:dim)\n",
    "      \n",
    "        for i in 1:npools\n",
    "            randperm!(perm)\n",
    "            pool[:, i] .= view(perm, 1:samplesize)\n",
    "        end\n",
    "        \n",
    "        new(kscale, pool)\n",
    "    end\n",
    "end\n",
    "\n",
    "samplesize(M::MaxHashSurrogate) = size(M.pool, 1)\n",
    "npools(M::MaxHashSurrogate) = size(M.pool, 2)\n",
    "kscale(M::MaxHashSurrogate) = M.kscale\n",
    "\n",
    "function encode(M::MaxHashSurrogate, vout, v)\n",
    "    for i in eachindex(vout)\n",
    "        #vout[i] = maximum(j -> v[j], view(M.pool, :, i))\n",
    "        vout[i] = findmax(j -> v[j], view(M.pool, :, i)) |> last\n",
    "    end\n",
    "    \n",
    "    vout\n",
    "end\n",
    "\n",
    "function encode(M::MaxHashSurrogate, db_::AbstractDatabase)\n",
    "    D = Matrix{UInt8}(undef, npools(M), length(db_))\n",
    "    \n",
    "    for i in eachindex(db_)\n",
    "        encode(M, view(D, :, i), db_[i])\n",
    "    end\n",
    "\n",
    "    MatrixDatabase(D)\n",
    "end\n",
    "\n",
    "function encode(M::MaxHashSurrogate, db_::AbstractDatabase, queries_::AbstractDatabase, params)\n",
    "    dist = StringHammingDistance()\n",
    "    db = encode(M, db_)\n",
    "    queries = encode(M, queries_)\n",
    "    params[\"surrogate\"] = \"MaxHash\"\n",
    "    params[\"samplesize\"] = samplesize(M)\n",
    "    params[\"npools\"] = npools(M)\n",
    "    params[\"kscale\"] = kscale(M)\n",
    "    \n",
    "    (; db, queries, params, dist)\n",
    "end\n",
    "\n"
   ]
  },
  {
   "cell_type": "code",
   "execution_count": 3,
   "id": "85d4e4c1-8593-4cee-bfa4-7a66260b89e2",
   "metadata": {},
   "outputs": [
    {
     "data": {
      "text/plain": [
       "run_experiment (generic function with 1 method)"
      ]
     },
     "execution_count": 3,
     "metadata": {},
     "output_type": "execute_result"
    }
   ],
   "source": [
    "function run_experiment(D, k;\n",
    "        kscalelist=[1, 8],\n",
    "        npairslist=[256, 512, 1024, 2048],\n",
    "        npoolslist=[32, 64, 128, 256],\n",
    "        ssizelist=[4, 8, 16]\n",
    "    )\n",
    "    D.params[\"k\"] = k\n",
    "    Gold = test_exhaustive(nothing, D.db, D.queries, D.dist, copy(D.params), k)\n",
    "    test_searchgraph(Gold, D.db, D.queries, D.dist, copy(D.params), k)\n",
    "\n",
    "    surrogates = []\n",
    "    dim = length(D.db[1])\n",
    "    for kscale in kscalelist\n",
    "        # push!(surrogates, BinaryHammingFixedPairs(kscale))\n",
    "        for npairs in npairslist\n",
    "            push!(surrogates, BinaryHammingSurrogate(kscale, npairs, dim))\n",
    "        end\n",
    "        \n",
    "        for ssize in ssizelist, npools in npoolslist\n",
    "            push!(surrogates, MaxHashSurrogate(ssize, npools, dim, kscale))\n",
    "        end\n",
    "    end\n",
    "\n",
    "    for E in surrogates\n",
    "        H = encode(E, D.db, D.queries, copy(D.params))\n",
    "        test_exhaustive(Gold, H.db, H.queries, H.dist, copy(H.params), k * E.kscale)\n",
    "        test_searchgraph(Gold, H.db, H.queries, H.dist, copy(H.params), k * E.kscale, 0)\n",
    "    end\n",
    "end"
   ]
  },
  {
   "cell_type": "code",
   "execution_count": null,
   "id": "c8b2288a-8a36-4876-b329-7b1f2c41fa52",
   "metadata": {},
   "outputs": [],
   "source": [
    "k=32\n",
    "\n",
    "let\n",
    "    D = load_glove_400k()\n",
    "    @show size(D.db.matrix), D.dist\n",
    "    run_experiment(D, k)\n",
    "end\n",
    "\n",
    "\n",
    "let\n",
    "    D = load_wit_300k()\n",
    "    @show size(D.db.matrix), D.dist\n",
    "    run_experiment(D, k)\n",
    "end\n",
    "\n",
    "let\n",
    "    D = load_glove_1m()\n",
    "    @show size(D.db.matrix), D.dist\n",
    "    run_experiment(D, k)\n",
    "end\n",
    "\n",
    "let\n",
    "    D = load_bigann_1m()\n",
    "    @show size(D.db.matrix), D.dist\n",
    "    run_experiment(D, k)\n",
    "end\n"
   ]
  },
  {
   "cell_type": "code",
   "execution_count": null,
   "id": "24eaed7e-a65c-42f9-8d3a-76efe8a380f1",
   "metadata": {},
   "outputs": [],
   "source": []
  },
  {
   "cell_type": "code",
   "execution_count": null,
   "id": "1a55de05-e91f-4d88-b17e-ebc770ba0d02",
   "metadata": {},
   "outputs": [],
   "source": [
    "\n"
   ]
  },
  {
   "cell_type": "code",
   "execution_count": null,
   "id": "9aceb4dc-bd52-45a9-9a88-9f67efa46747",
   "metadata": {},
   "outputs": [],
   "source": []
  }
 ],
 "metadata": {
  "kernelspec": {
   "display_name": "Julia 1.7.2",
   "language": "julia",
   "name": "julia-1.7.2"
  },
  "language_info": {
   "file_extension": ".jl",
   "mimetype": "application/julia",
   "name": "julia",
   "version": "1.7.2"
  }
 },
 "nbformat": 4,
 "nbformat_minor": 5
}
