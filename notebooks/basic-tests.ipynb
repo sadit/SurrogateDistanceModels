{
 "cells": [
  {
   "cell_type": "code",
   "execution_count": 1,
   "id": "db03c9be-46c0-4e5d-96e6-b56eb958affe",
   "metadata": {},
   "outputs": [
    {
     "name": "stderr",
     "output_type": "stream",
     "text": [
      "\u001b[32m\u001b[1m  Activating\u001b[22m\u001b[39m project at `~/Research/SurrogateDistanceModels/notebooks`\n"
     ]
    },
    {
     "data": {
      "text/plain": [
       "test_searchgraph (generic function with 2 methods)"
      ]
     },
     "execution_count": 1,
     "metadata": {},
     "output_type": "execute_result"
    }
   ],
   "source": [
    "using Pkg\n",
    "Pkg.activate(\".\")\n",
    "\n",
    "using Plots, HypertextLiteral, Random\n",
    "include(\"../src/load.jl\") # load datasets\n",
    "include(\"../src/surrogate.jl\")\n",
    "include(\"../src/run.jl\") # run tests"
   ]
  },
  {
   "cell_type": "code",
   "execution_count": null,
   "id": "cc2d38ec-9694-415e-b818-564a35b433d5",
   "metadata": {},
   "outputs": [],
   "source": []
  },
  {
   "cell_type": "code",
   "execution_count": 2,
   "id": "85d4e4c1-8593-4cee-bfa4-7a66260b89e2",
   "metadata": {},
   "outputs": [
    {
     "data": {
      "text/plain": [
       "run_experiment (generic function with 1 method)"
      ]
     },
     "execution_count": 2,
     "metadata": {},
     "output_type": "execute_result"
    }
   ],
   "source": [
    "function run_experiment(D, k;\n",
    "        kscalelist=[1, 8],\n",
    "        npairslist=[256, 512, 1024, 2048],\n",
    "        npoolslist=[32, 64, 128, 256],\n",
    "        ssizelist=[4, 8, 16]\n",
    "    )\n",
    "    D.params[\"k\"] = k\n",
    "    D.params[\"enctime\"] = 0.0\n",
    "    Gold = test_exhaustive(nothing, D.db, D.queries, D.dist, copy(D.params), k)\n",
    "    test_searchgraph(Gold, D.db, D.queries, D.dist, copy(D.params), k)\n",
    "    test_searchgraph(Gold, D.db, D.queries, D.dist, copy(D.params), k, 0.6)\n",
    "\n",
    "    surrogates = []\n",
    "    dim = length(D.db[1])\n",
    "    for kscale in kscalelist\n",
    "        # push!(surrogates, BinaryHammingFixedPairs(kscale))\n",
    "        for npairs in npairslist\n",
    "            push!(surrogates, BinaryHammingSurrogate(kscale, npairs, dim))\n",
    "        end\n",
    "\n",
    "        for ssize in ssizelist, npools in npoolslist\n",
    "            push!(surrogates, MaxHashSurrogate(ssize, npools, dim, kscale))\n",
    "        end\n",
    "    end\n",
    "\n",
    "    for E in surrogates\n",
    "        enctime = @elapsed H = encode(E, D.db, D.queries, copy(D.params))\n",
    "        H.params[\"enctime\"] = enctime\n",
    "        test_exhaustive(Gold, H.db, H.queries, H.dist, copy(H.params), k * kscale(E))\n",
    "        test_searchgraph(Gold, H.db, H.queries, H.dist, copy(H.params), k * kscale(E), 0)\n",
    "    end\n",
    "end"
   ]
  },
  {
   "cell_type": "code",
   "execution_count": 3,
   "id": "c8b2288a-8a36-4876-b329-7b1f2c41fa52",
   "metadata": {},
   "outputs": [
    {
     "name": "stdout",
     "output_type": "stream",
     "text": [
      "(size(D.db.matrix), D.dist) = ((100, 390000), NormalizedCosineDistance())\n",
      "(size(D.db.matrix), D.dist) = ((512, 308374), NormalizedCosineDistance())\n",
      "(size(D.db.matrix), D.dist) = ((100, 1183514), NormalizedCosineDistance())\n",
      "(size(D.db.matrix), D.dist) = ((128, 1000000), SqL2Distance())\n"
     ]
    }
   ],
   "source": [
    "k=32\n",
    "\n",
    "let\n",
    "    D = load_glove_400k()\n",
    "    @show size(D.db.matrix), D.dist\n",
    "    run_experiment(D, k)\n",
    "end\n",
    "\n",
    "let\n",
    "    D = load_wit_300k()\n",
    "    @show size(D.db.matrix), D.dist\n",
    "    run_experiment(D, k)\n",
    "end\n",
    "\n",
    "let\n",
    "    D = load_glove_1m()\n",
    "    @show size(D.db.matrix), D.dist\n",
    "    run_experiment(D, k)\n",
    "end\n",
    "\n",
    "let\n",
    "    D = load_bigann_1m()\n",
    "    @show size(D.db.matrix), D.dist\n",
    "    run_experiment(D, k)\n",
    "end\n"
   ]
  }
 ],
 "metadata": {
  "kernelspec": {
   "display_name": "Julia 1.7.2",
   "language": "julia",
   "name": "julia-1.7.2"
  },
  "language_info": {
   "file_extension": ".jl",
   "mimetype": "application/julia",
   "name": "julia",
   "version": "1.7.2"
  }
 },
 "nbformat": 4,
 "nbformat_minor": 5
}
