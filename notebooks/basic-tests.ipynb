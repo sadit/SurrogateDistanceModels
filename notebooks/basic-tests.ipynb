{
 "cells": [
  {
   "cell_type": "code",
   "execution_count": 5,
   "id": "db03c9be-46c0-4e5d-96e6-b56eb958affe",
   "metadata": {},
   "outputs": [
    {
     "name": "stderr",
     "output_type": "stream",
     "text": [
      "\u001b[32m\u001b[1m  Activating\u001b[22m\u001b[39m project at `~/Research/SurrogateDistanceModels.jl/notebooks`\n"
     ]
    },
    {
     "name": "stderr",
     "output_type": "stream",
     "text": [
      "\u001b[32m\u001b[1m   Resolving\u001b[22m\u001b[39m package versions...\n"
     ]
    },
    {
     "name": "stderr",
     "output_type": "stream",
     "text": [
      "\u001b[32m\u001b[1m    Updating\u001b[22m\u001b[39m `~/Research/SurrogateDistanceModels.jl/notebooks/Project.toml`\n",
      " \u001b[90m [053f045d] \u001b[39m\u001b[93m~ SimilaritySearch v0.9.4 `../../SimilaritySearch.jl` ⇒ v0.9.5 `../../SimilaritySearch.jl`\u001b[39m\n",
      " \u001b[90m [0e04eddd] \u001b[39m\u001b[92m+ SurrogateDistanceModels v0.1.0 `..`\u001b[39m\n",
      "\u001b[32m\u001b[1m    Updating\u001b[22m\u001b[39m `~/Research/SurrogateDistanceModels.jl/notebooks/Manifest.toml`\n"
     ]
    },
    {
     "name": "stderr",
     "output_type": "stream",
     "text": [
      " \u001b[90m [053f045d] \u001b[39m\u001b[93m~ SimilaritySearch v0.9.4 `../../SimilaritySearch.jl` ⇒ v0.9.5 `../../SimilaritySearch.jl`\u001b[39m\n",
      " \u001b[90m [0e04eddd] \u001b[39m\u001b[92m+ SurrogateDistanceModels v0.1.0 `..`\u001b[39m\n"
     ]
    },
    {
     "data": {
      "text/plain": [
       "test_searchgraph (generic function with 2 methods)"
      ]
     },
     "metadata": {},
     "output_type": "display_data"
    }
   ],
   "source": [
    "using Pkg\n",
    "Pkg.activate(\".\")\n",
    "# Pkg.develop(path=\"..\")\n",
    "using SurrogateDistanceModels, HypertextLiteral, Random\n",
    "include(\"../load.jl\") # load datasets\n",
    "include(\"../run.jl\") # run tests"
   ]
  },
  {
   "cell_type": "code",
   "execution_count": 6,
   "id": "cc2d38ec-9694-415e-b818-564a35b433d5",
   "metadata": {},
   "outputs": [
    {
     "data": {
      "text/plain": [
       "1"
      ]
     },
     "metadata": {},
     "output_type": "display_data"
    }
   ],
   "source": [
    "Threads.nthreads()"
   ]
  },
  {
   "cell_type": "code",
   "execution_count": 3,
   "id": "00c211a9-5bd6-4f4d-8387-0b4959bae394",
   "metadata": {},
   "outputs": [
    {
     "name": "stdout",
     "output_type": "stream",
     "text": [
      "\u001b[32m\u001b[1mStatus\u001b[22m\u001b[39m `~/Research/SurrogateDistanceModels/notebooks/Project.toml`\n",
      " \u001b[90m [336ed68f] \u001b[39mCSV v0.10.4\n",
      " \u001b[90m [a93c6f00] \u001b[39mDataFrames v1.3.4\n",
      " \u001b[90m [0b91fe84] \u001b[39mDisplayAs v0.1.6\n",
      " \u001b[90m [c5bfea45] \u001b[39mEmbeddings v0.4.2\n",
      " \u001b[90m [c27321d9] \u001b[39mGlob v1.3.0\n",
      " \u001b[90m [f67ccb44] \u001b[39mHDF5 v0.16.11\n",
      " \u001b[90m [ac1192a8] \u001b[39mHypertextLiteral v0.9.4\n",
      " \u001b[90m [033835bb] \u001b[39mJLD2 v0.4.22\n",
      " \u001b[90m [682c06a0] \u001b[39mJSON v0.21.3\n",
      "\u001b[32m⌃\u001b[39m\u001b[90m [91a5bcdd] \u001b[39mPlots v1.31.5\n",
      " \u001b[90m [612083be] \u001b[39mQueryverse v0.7.0\n",
      " \u001b[90m [ca7ab67e] \u001b[39mSimSearchManifoldLearning v0.2.5\n",
      " \u001b[90m [053f045d] \u001b[39mSimilaritySearch v0.9.4 `../../SimilaritySearch.jl`\n",
      " \u001b[90m [f3b207a7] \u001b[39mStatsPlots v0.15.1\n",
      "\u001b[36m\u001b[1mInfo\u001b[22m\u001b[39m Packages marked with \u001b[32m⌃\u001b[39m have new versions available\n"
     ]
    }
   ],
   "source": [
    "]status"
   ]
  },
  {
   "cell_type": "code",
   "execution_count": 6,
   "id": "85d4e4c1-8593-4cee-bfa4-7a66260b89e2",
   "metadata": {},
   "outputs": [
    {
     "data": {
      "text/plain": [
       "run_experiment (generic function with 1 method)"
      ]
     },
     "execution_count": 6,
     "metadata": {},
     "output_type": "execute_result"
    }
   ],
   "source": [
    "function run_experiment(D, k;\n",
    "        kscalelist=[1, 8, 16],\n",
    "        npairslist=[256, 512, 1024, 2048],\n",
    "        npoolslist=[32, 64, 128, 256],\n",
    "        ssizelist=[4, 8, 16],\n",
    "        topklist=[15, 31, 63],\n",
    "        npermslist=[4, 8, 16],\n",
    "        permsizelist=[64]\n",
    "    )\n",
    "    D.params[\"k\"] = k\n",
    "    D.params[\"enctime\"] = 0.0\n",
    "    Gold = test_exhaustive(nothing, D.db, D.queries, D.dist, copy(D.params), k)\n",
    "    test_searchgraph(Gold, D.db, D.queries, D.dist, copy(D.params), k)\n",
    "    test_searchgraph(Gold, D.db, D.queries, D.dist, copy(D.params), k, 0.6)\n",
    "\n",
    "    surrogates = []\n",
    "    dim = length(D.db[1])\n",
    "    for kscale in kscalelist\n",
    "        # push!(surrogates, BinaryHammingFixedPairs(kscale))\n",
    "        \n",
    "        for npairs in npairslist\n",
    "            push!(surrogates, BinaryHammingSurrogate(kscale, npairs, dim))\n",
    "        end\n",
    "        \n",
    "        for nperms in npermslist, permsize in permsizelist\n",
    "            push!(surrogates, Perms(permsize, nperms, dim, kscale))\n",
    "            s = ceil(Int, permsize/3)\n",
    "            push!(surrogates, BinPerms(s, permsize, nperms, dim, kscale))            \n",
    "        end\n",
    "        \n",
    "        for ssize in ssizelist, npools in npoolslist\n",
    "            push!(surrogates, MaxHashSurrogate(ssize, npools, dim, kscale))\n",
    "        end        \n",
    "        \n",
    "        #=\n",
    "        for topk in topklist\n",
    "            #push!(surrogates, TopKSurrogate(topk, dim, kscale))\n",
    "            push!(surrogates, SmoothedTopK(topk, dim, kscale))\n",
    "        end =#\n",
    "    end\n",
    "\n",
    "    for E in surrogates\n",
    "        enctime = @elapsed H = encode(E, D.db, D.queries, copy(D.params))\n",
    "        H.params[\"enctime\"] = enctime\n",
    "        test_exhaustive(Gold, H.db, H.queries, H.dist, copy(H.params), k * kscale(E))\n",
    "        test_searchgraph(Gold, H.db, H.queries, H.dist, copy(H.params), k * kscale(E), 0)\n",
    "    end\n",
    "end"
   ]
  },
  {
   "cell_type": "code",
   "execution_count": null,
   "id": "c8b2288a-8a36-4876-b329-7b1f2c41fa52",
   "metadata": {},
   "outputs": [
    {
     "name": "stdout",
     "output_type": "stream",
     "text": [
      "(size(D.db.matrix), D.dist) = ((100, 390000), NormalizedCosineDistance())\n",
      "(:Perms, permsize, nperms, dim, kscale) = (:Perms, 64, 4, 100, 1)\n",
      "(shift, permsize, nperms, dim, kscale) = (22, 64, 4, 100, 1)\n",
      "(:Perms, permsize, nperms, dim, kscale) = (:Perms, 64, 8, 100, 1)\n",
      "(shift, permsize, nperms, dim, kscale) = (22, 64, 8, 100, 1)\n",
      "(:Perms, permsize, nperms, dim, kscale) = (:Perms, 64, 16, 100, 1)\n",
      "(shift, permsize, nperms, dim, kscale) = (22, 64, 16, 100, 1)\n",
      "(:Perms, permsize, nperms, dim, kscale) = (:Perms, 64, 4, 100, 8)\n",
      "(shift, permsize, nperms, dim, kscale) = (22, 64, 4, 100, 8)\n",
      "(:Perms, permsize, nperms, dim, kscale) = (:Perms, 64, 8, 100, 8)\n",
      "(shift, permsize, nperms, dim, kscale) = (22, 64, 8, 100, 8)\n",
      "(:Perms, permsize, nperms, dim, kscale) = (:Perms, 64, 16, 100, 8)\n",
      "(shift, permsize, nperms, dim, kscale) = (22, 64, 16, 100, 8)\n",
      "(:Perms, permsize, nperms, dim, kscale) = (:Perms, 64, 4, 100, 16)\n",
      "(shift, permsize, nperms, dim, kscale) = (22, 64, 4, 100, 16)\n",
      "(:Perms, permsize, nperms, dim, kscale) = (:Perms, 64, 8, 100, 16)\n",
      "(shift, permsize, nperms, dim, kscale) = (22, 64, 8, 100, 16)\n",
      "(:Perms, permsize, nperms, dim, kscale) = (:Perms, 64, 16, 100, 16)\n",
      "(shift, permsize, nperms, dim, kscale) = (22, 64, 16, 100, 16)\n",
      "(size(D.db.matrix), D.dist) = ((512, 308374), NormalizedCosineDistance())\n",
      "(:Perms, permsize, nperms, dim, kscale) = (:Perms, 64, 4, 512, 1)\n",
      "(shift, permsize, nperms, dim, kscale) = (22, 64, 4, 512, 1)\n",
      "(:Perms, permsize, nperms, dim, kscale) = (:Perms, 64, 8, 512, 1)\n",
      "(shift, permsize, nperms, dim, kscale) = (22, 64, 8, 512, 1)\n",
      "(:Perms, permsize, nperms, dim, kscale) = (:Perms, 64, 16, 512, 1)\n",
      "(shift, permsize, nperms, dim, kscale) = (22, 64, 16, 512, 1)\n",
      "(:Perms, permsize, nperms, dim, kscale) = (:Perms, 64, 4, 512, 8)\n",
      "(shift, permsize, nperms, dim, kscale) = (22, 64, 4, 512, 8)\n",
      "(:Perms, permsize, nperms, dim, kscale) = (:Perms, 64, 8, 512, 8)\n",
      "(shift, permsize, nperms, dim, kscale) = (22, 64, 8, 512, 8)\n",
      "(:Perms, permsize, nperms, dim, kscale) = (:Perms, 64, 16, 512, 8)\n",
      "(shift, permsize, nperms, dim, kscale) = (22, 64, 16, 512, 8)\n",
      "(:Perms, permsize, nperms, dim, kscale) = (:Perms, 64, 4, 512, 16)\n",
      "(shift, permsize, nperms, dim, kscale) = (22, 64, 4, 512, 16)\n",
      "(:Perms, permsize, nperms, dim, kscale) = (:Perms, 64, 8, 512, 16)\n",
      "(shift, permsize, nperms, dim, kscale) = (22, 64, 8, 512, 16)\n",
      "(:Perms, permsize, nperms, dim, kscale) = (:Perms, 64, 16, 512, 16)\n",
      "(shift, permsize, nperms, dim, kscale) = (22, 64, 16, 512, 16)\n",
      "(size(D.db.matrix), D.dist) = ((100, 1183514), NormalizedCosineDistance())\n",
      "(:Perms, permsize, nperms, dim, kscale) = (:Perms, 64, 4, 100, 1)\n",
      "(shift, permsize, nperms, dim, kscale) = (22, 64, 4, 100, 1)\n",
      "(:Perms, permsize, nperms, dim, kscale) = (:Perms, 64, 8, 100, 1)\n",
      "(shift, permsize, nperms, dim, kscale) = (22, 64, 8, 100, 1)\n",
      "(:Perms, permsize, nperms, dim, kscale) = (:Perms, 64, 16, 100, 1)\n",
      "(shift, permsize, nperms, dim, kscale) = (22, 64, 16, 100, 1)\n",
      "(:Perms, permsize, nperms, dim, kscale) = (:Perms, 64, 4, 100, 8)\n",
      "(shift, permsize, nperms, dim, kscale) = (22, 64, 4, 100, 8)\n",
      "(:Perms, permsize, nperms, dim, kscale) = (:Perms, 64, 8, 100, 8)\n",
      "(shift, permsize, nperms, dim, kscale) = (22, 64, 8, 100, 8)\n",
      "(:Perms, permsize, nperms, dim, kscale) = (:Perms, 64, 16, 100, 8)\n",
      "(shift, permsize, nperms, dim, kscale) = (22, 64, 16, 100, 8)\n",
      "(:Perms, permsize, nperms, dim, kscale) = (:Perms, 64, 4, 100, 16)\n",
      "(shift, permsize, nperms, dim, kscale) = (22, 64, 4, 100, 16)\n",
      "(:Perms, permsize, nperms, dim, kscale) = (:Perms, 64, 8, 100, 16)\n",
      "(shift, permsize, nperms, dim, kscale) = (22, 64, 8, 100, 16)\n",
      "(:Perms, permsize, nperms, dim, kscale) = (:Perms, 64, 16, 100, 16)\n",
      "(shift, permsize, nperms, dim, kscale) = (22, 64, 16, 100, 16)\n"
     ]
    }
   ],
   "source": [
    "k=32\n",
    "\n",
    "let\n",
    "    D = load_glove_400k()\n",
    "    @show size(D.db.matrix), D.dist\n",
    "    run_experiment(D, k)\n",
    "end\n",
    "\n",
    "let\n",
    "    D = load_wit_300k()\n",
    "    @show size(D.db.matrix), D.dist\n",
    "    run_experiment(D, k)\n",
    "end\n",
    "\n",
    "let\n",
    "    D = load_glove_1m()\n",
    "    @show size(D.db.matrix), D.dist\n",
    "    run_experiment(D, k)\n",
    "end\n",
    "\n",
    "let\n",
    "    D = load_bigann_1m()\n",
    "    @show size(D.db.matrix), D.dist\n",
    "    run_experiment(D, k)\n",
    "end\n"
   ]
  },
  {
   "cell_type": "code",
   "execution_count": null,
   "id": "5aec7886-c6ec-4fd2-9e76-ef0732c6736e",
   "metadata": {},
   "outputs": [],
   "source": []
  }
 ],
 "metadata": {
  "kernelspec": {
   "display_name": "Julia 1.8.0",
   "language": "julia",
   "name": "julia-1.8"
  },
  "language_info": {
   "file_extension": ".jl",
   "mimetype": "application/julia",
   "name": "julia",
   "version": "1.8.0"
  }
 },
 "nbformat": 4,
 "nbformat_minor": 5
}
